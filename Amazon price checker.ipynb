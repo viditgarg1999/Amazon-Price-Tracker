{
 "cells": [
  {
   "cell_type": "code",
   "execution_count": null,
   "metadata": {},
   "outputs": [],
   "source": [
    "from selenium import webdriver\n",
    "from selenium.webdriver.common.keys import Keys\n",
    "from selenium.common.exceptions import NoSuchElementException\n",
    "from selenium.webdriver.common.by import By\n",
    "from selenium.webdriver.support.ui import WebDriverWait\n",
    "from selenium.webdriver.support import expected_conditions as EC\n",
    "import time\n",
    "import smtplib\n",
    "\n",
    "def def_product():\n",
    "\n",
    "    driver=webdriver.Chrome(executable_path=\"C:\\Python34\\Drivers\\chromedriver.exe\")\n",
    "    driver.maximize_window()\n",
    "    product_url = input(\"Enter the url of the product: \")\n",
    "    driver.get(product_url)\n",
    "    driver.implicitly_wait(3)\n",
    "\n",
    "    product_title = driver.find_element_by_xpath(\"//*[@id='productTitle']\").text\n",
    "    #print(product_title)\n",
    "    price = driver.find_element_by_xpath(\"//*[@id='priceblock_dealprice']\").text\n",
    "    new_price = price[2:]\n",
    "    #print(price)\n",
    "    affordable_price = input(\"Enter the amount(Should be in INR) you are willing to spend on the product: \")\n",
    "    subject = \"Regarding update in the price of \" +str(product_title) + str(\".\")\n",
    "    msg = \"Dear user, the above mentioned product is now available in your desired range.\"\n",
    "\n",
    "    if(new_price<= affordable_price):\n",
    "        send_email(subject,msg)\n",
    "    else:\n",
    "        print(\"Product is not available in your desired range!\")\n",
    " \n",
    "\n",
    "def send_email(subject,msg):\n",
    "    print(\"\\n\")\n",
    "    print(\"Make sure that you have enabled (less secure app) setting in your gmail account\")\n",
    "    print(\"Suggestion : Don't use your original gmail account for security reasons.\")\n",
    "    email_address = input(\"Enter your gmail account username: \")\n",
    "    password = input(\"Enter your password: \")\n",
    "    try:\n",
    "        server = smtplib.SMTP('smtp.gmail.com',587) \n",
    "        server.ehlo()\n",
    "        server.starttls()  # TLS mode(Transport Layer Security mode)\n",
    "        server.login(email_address, password)\n",
    "        message = 'Subject: {}\\n\\n'.format(subject,msg)\n",
    "        server.sendmail(email_address, password,message)\n",
    "        server.quit()\n",
    "        print(\"Email successfully sent.\")\n",
    "    except():\n",
    "        print(\"Email failed to send.\")\n",
    "    \n",
    "    \n",
    "\n",
    "def_product();\n"
   ]
  }
 ],
 "metadata": {
  "kernelspec": {
   "display_name": "Python 3",
   "language": "python",
   "name": "python3"
  },
  "language_info": {
   "codemirror_mode": {
    "name": "ipython",
    "version": 3
   },
   "file_extension": ".py",
   "mimetype": "text/x-python",
   "name": "python",
   "nbconvert_exporter": "python",
   "pygments_lexer": "ipython3",
   "version": "3.7.2"
  }
 },
 "nbformat": 4,
 "nbformat_minor": 2
}
